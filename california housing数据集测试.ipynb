{
 "cells": [
  {
   "cell_type": "code",
   "execution_count": 1,
   "metadata": {},
   "outputs": [],
   "source": [
    "from sklearn.datasets import fetch_california_housing\n",
    "from sklearn.model_selection import train_test_split\n",
    "from sklearn.preprocessing import StandardScaler"
   ]
  },
  {
   "cell_type": "code",
   "execution_count": 2,
   "metadata": {},
   "outputs": [],
   "source": [
    "import pandas as pd\n",
    "import numpy as np\n",
    "import tensorflow as tf\n",
    "import tensorflow.keras as keras"
   ]
  },
  {
   "cell_type": "code",
   "execution_count": 3,
   "metadata": {},
   "outputs": [],
   "source": [
    "import matplotlib.pyplot as plt"
   ]
  },
  {
   "cell_type": "code",
   "execution_count": 4,
   "metadata": {},
   "outputs": [],
   "source": [
    "def plot_history(history):\n",
    "    pd.DataFrame(history.history).plot(figsize=(8, 5))\n",
    "    plt.grid(True)\n",
    "    plt.gca().set_ylim(0, 1)\n",
    "    plt.show()"
   ]
  },
  {
   "cell_type": "markdown",
   "metadata": {},
   "source": [
    "# 导入数据并标准化"
   ]
  },
  {
   "cell_type": "code",
   "execution_count": 5,
   "metadata": {},
   "outputs": [],
   "source": [
    "housing = fetch_california_housing()"
   ]
  },
  {
   "cell_type": "code",
   "execution_count": 6,
   "metadata": {},
   "outputs": [],
   "source": [
    "X_train_full, X_test, y_train_full, y_test = train_test_split(housing.data, housing.target, test_size=0.05)"
   ]
  },
  {
   "cell_type": "code",
   "execution_count": 7,
   "metadata": {},
   "outputs": [],
   "source": [
    "X_train, X_val, y_train, y_valid = train_test_split(X_train_full, y_train_full, test_size=0.05)"
   ]
  },
  {
   "cell_type": "code",
   "execution_count": 8,
   "metadata": {},
   "outputs": [],
   "source": [
    "standard_scaler = StandardScaler()"
   ]
  },
  {
   "cell_type": "code",
   "execution_count": 9,
   "metadata": {},
   "outputs": [],
   "source": [
    "X_train_std = standard_scaler.fit_transform(X_train)"
   ]
  },
  {
   "cell_type": "code",
   "execution_count": 10,
   "metadata": {},
   "outputs": [],
   "source": [
    "X_val_std = standard_scaler.transform(X_val)\n",
    "X_test_std = standard_scaler.transform(X_test)"
   ]
  },
  {
   "cell_type": "markdown",
   "metadata": {},
   "source": [
    "# 建模并训练"
   ]
  },
  {
   "cell_type": "code",
   "execution_count": 11,
   "metadata": {},
   "outputs": [],
   "source": [
    "reg_model = keras.models.Sequential([\n",
    "    keras.layers.Dense(30, input_shape=X_train_std.shape[1:], activation='relu'),\n",
    "    keras.layers.Dense(1)\n",
    "])\n",
    "reg_model.compile(optimizer='sgd', loss='mean_squared_error')\n",
    "# reg_model.fit(X_train_std, y_train, validation_data=(X_val_std, y_valid), epochs=30)"
   ]
  },
  {
   "cell_type": "markdown",
   "metadata": {},
   "source": [
    "# 增加节点数"
   ]
  },
  {
   "cell_type": "code",
   "execution_count": 50,
   "metadata": {},
   "outputs": [
    {
     "name": "stdout",
     "output_type": "stream",
     "text": [
      "Train on 18627 samples, validate on 981 samples\n",
      "Epoch 1/30\n",
      "18627/18627 [==============================] - 2s 94us/sample - loss: 0.9909 - val_loss: 0.8206\n",
      "Epoch 2/30\n",
      "18627/18627 [==============================] - 1s 76us/sample - loss: 0.4643 - val_loss: 0.4511\n",
      "Epoch 3/30\n",
      "18627/18627 [==============================] - 1s 75us/sample - loss: 0.4323 - val_loss: 0.4305\n",
      "Epoch 4/30\n",
      "18627/18627 [==============================] - 1s 76us/sample - loss: 0.4104 - val_loss: 0.4063\n",
      "Epoch 5/30\n",
      "18627/18627 [==============================] - 1s 76us/sample - loss: 0.4039 - val_loss: 0.3999\n",
      "Epoch 6/30\n",
      "18627/18627 [==============================] - 1s 75us/sample - loss: 0.3890 - val_loss: 0.3836\n",
      "Epoch 7/30\n",
      "18627/18627 [==============================] - 1s 75us/sample - loss: 0.3985 - val_loss: 0.5795\n",
      "Epoch 8/30\n",
      "18627/18627 [==============================] - 1s 75us/sample - loss: 0.4012 - val_loss: 0.3828\n",
      "Epoch 9/30\n",
      "18627/18627 [==============================] - 1s 75us/sample - loss: 0.3805 - val_loss: 0.3710\n",
      "Epoch 10/30\n",
      "18627/18627 [==============================] - 1s 75us/sample - loss: 0.3843 - val_loss: 0.3645\n",
      "Epoch 11/30\n",
      "18627/18627 [==============================] - 1s 80us/sample - loss: 0.3658 - val_loss: 0.3767\n",
      "Epoch 12/30\n",
      "18627/18627 [==============================] - 1s 78us/sample - loss: 0.3645 - val_loss: 0.3511\n",
      "Epoch 13/30\n",
      "18627/18627 [==============================] - 1s 76us/sample - loss: 0.3563 - val_loss: 0.3556\n",
      "Epoch 14/30\n",
      "18627/18627 [==============================] - 1s 75us/sample - loss: 0.3574 - val_loss: 0.3580\n",
      "Epoch 15/30\n",
      "18627/18627 [==============================] - 1s 75us/sample - loss: 0.3626 - val_loss: 0.3628\n",
      "Epoch 16/30\n",
      "18627/18627 [==============================] - 1s 75us/sample - loss: 0.3503 - val_loss: 0.3607\n",
      "Epoch 17/30\n",
      "18627/18627 [==============================] - 1s 75us/sample - loss: 0.3460 - val_loss: 0.3363\n",
      "Epoch 18/30\n",
      "18627/18627 [==============================] - 1s 75us/sample - loss: 0.3441 - val_loss: 0.3493\n",
      "Epoch 19/30\n",
      "18627/18627 [==============================] - 1s 75us/sample - loss: 0.3408 - val_loss: 0.3872\n",
      "Epoch 20/30\n",
      "18627/18627 [==============================] - 1s 77us/sample - loss: 0.3437 - val_loss: 0.3332\n",
      "Epoch 21/30\n",
      "18627/18627 [==============================] - 1s 76us/sample - loss: 0.3436 - val_loss: 0.3327\n",
      "Epoch 22/30\n",
      "18627/18627 [==============================] - 1s 75us/sample - loss: 0.3337 - val_loss: 0.3288\n",
      "Epoch 23/30\n",
      "18627/18627 [==============================] - 1s 75us/sample - loss: 0.3332 - val_loss: 0.3270\n",
      "Epoch 24/30\n",
      "18627/18627 [==============================] - 1s 75us/sample - loss: 0.3308 - val_loss: 0.3203\n",
      "Epoch 25/30\n",
      "18627/18627 [==============================] - 1s 75us/sample - loss: 0.3388 - val_loss: 0.3278\n",
      "Epoch 26/30\n",
      "18627/18627 [==============================] - 1s 75us/sample - loss: 0.3322 - val_loss: 0.3356\n",
      "Epoch 27/30\n",
      "18627/18627 [==============================] - 1s 76us/sample - loss: 0.3320 - val_loss: 0.3290\n",
      "Epoch 28/30\n",
      "18627/18627 [==============================] - 1s 75us/sample - loss: 0.3264 - val_loss: 0.3079\n",
      "Epoch 29/30\n",
      "18627/18627 [==============================] - 1s 75us/sample - loss: 0.3258 - val_loss: 0.3070\n",
      "Epoch 30/30\n",
      "18627/18627 [==============================] - 1s 75us/sample - loss: 0.3228 - val_loss: 0.3243\n"
     ]
    },
    {
     "data": {
      "text/plain": [
       "<tensorflow.python.keras.callbacks.History at 0x7fa40002e650>"
      ]
     },
     "execution_count": 50,
     "metadata": {},
     "output_type": "execute_result"
    }
   ],
   "source": [
    "reg_model = keras.models.Sequential([\n",
    "    keras.layers.Dense(300, input_shape=X_train_std.shape[1:], activation='relu'),\n",
    "    keras.layers.Dense(1)\n",
    "])\n",
    "reg_model.compile(optimizer='sgd', loss='mean_squared_error')\n",
    "reg_model.fit(X_train_std, y_train, validation_data=(X_val_std, y_valid), epochs=30)"
   ]
  },
  {
   "cell_type": "markdown",
   "metadata": {},
   "source": [
    "# 再加一层"
   ]
  },
  {
   "cell_type": "code",
   "execution_count": 53,
   "metadata": {},
   "outputs": [
    {
     "name": "stdout",
     "output_type": "stream",
     "text": [
      "Train on 18627 samples, validate on 981 samples\n",
      "Epoch 1/30\n",
      "18627/18627 [==============================] - 2s 98us/sample - loss: 0.6053 - val_loss: 0.9155\n",
      "Epoch 2/30\n",
      "18627/18627 [==============================] - 1s 80us/sample - loss: 0.7557 - val_loss: 0.4205\n",
      "Epoch 3/30\n",
      "18627/18627 [==============================] - 1s 79us/sample - loss: 0.4088 - val_loss: 0.7556\n",
      "Epoch 4/30\n",
      "18627/18627 [==============================] - 1s 79us/sample - loss: 0.3881 - val_loss: 0.3763\n",
      "Epoch 5/30\n",
      "18627/18627 [==============================] - 1s 78us/sample - loss: 0.3742 - val_loss: 0.3672\n",
      "Epoch 6/30\n",
      "18627/18627 [==============================] - 1s 78us/sample - loss: 0.3574 - val_loss: 0.3446\n",
      "Epoch 7/30\n",
      "18627/18627 [==============================] - 1s 79us/sample - loss: 0.3478 - val_loss: 0.3396\n",
      "Epoch 8/30\n",
      "18627/18627 [==============================] - 1s 78us/sample - loss: 0.3481 - val_loss: 0.3488\n",
      "Epoch 9/30\n",
      "18627/18627 [==============================] - 1s 79us/sample - loss: 0.3328 - val_loss: 0.3535\n",
      "Epoch 10/30\n",
      "18627/18627 [==============================] - 1s 78us/sample - loss: 0.3262 - val_loss: 0.3603\n",
      "Epoch 11/30\n",
      "18627/18627 [==============================] - 2s 81us/sample - loss: 0.3233 - val_loss: 0.3181\n",
      "Epoch 12/30\n",
      "18627/18627 [==============================] - 1s 81us/sample - loss: 0.3170 - val_loss: 0.3258\n",
      "Epoch 13/30\n",
      "18627/18627 [==============================] - 1s 80us/sample - loss: 0.3110 - val_loss: 0.3270\n",
      "Epoch 14/30\n",
      "18627/18627 [==============================] - 1s 79us/sample - loss: 0.3068 - val_loss: 0.3559\n",
      "Epoch 15/30\n",
      "18627/18627 [==============================] - 1s 78us/sample - loss: 0.3063 - val_loss: 0.2896\n",
      "Epoch 16/30\n",
      "18627/18627 [==============================] - 1s 78us/sample - loss: 0.3008 - val_loss: 0.2869\n",
      "Epoch 17/30\n",
      "18627/18627 [==============================] - 1s 79us/sample - loss: 0.2981 - val_loss: 0.2896\n",
      "Epoch 18/30\n",
      "18627/18627 [==============================] - 1s 78us/sample - loss: 0.3025 - val_loss: 0.3413\n",
      "Epoch 19/30\n",
      "18627/18627 [==============================] - 1s 80us/sample - loss: 0.2952 - val_loss: 0.2956\n",
      "Epoch 20/30\n",
      "18627/18627 [==============================] - 1s 78us/sample - loss: 0.2934 - val_loss: 0.3250\n",
      "Epoch 21/30\n",
      "18627/18627 [==============================] - 1s 80us/sample - loss: 0.2907 - val_loss: 0.3072\n",
      "Epoch 22/30\n",
      "18627/18627 [==============================] - 1s 79us/sample - loss: 0.2893 - val_loss: 0.2918\n",
      "Epoch 23/30\n",
      "18627/18627 [==============================] - 1s 78us/sample - loss: 0.2859 - val_loss: 0.3251\n",
      "Epoch 24/30\n",
      "18627/18627 [==============================] - 1s 78us/sample - loss: 0.2876 - val_loss: 0.3048\n",
      "Epoch 25/30\n",
      "18627/18627 [==============================] - 1s 78us/sample - loss: 0.2847 - val_loss: 0.3568\n",
      "Epoch 26/30\n",
      "18627/18627 [==============================] - 1s 78us/sample - loss: 0.2841 - val_loss: 0.6159\n",
      "Epoch 27/30\n",
      "18627/18627 [==============================] - 1s 78us/sample - loss: 0.2845 - val_loss: 0.2901\n",
      "Epoch 28/30\n",
      "18627/18627 [==============================] - 1s 79us/sample - loss: 0.2796 - val_loss: 0.4122\n",
      "Epoch 29/30\n",
      "18627/18627 [==============================] - 1s 78us/sample - loss: 0.2789 - val_loss: 0.3001\n",
      "Epoch 30/30\n",
      "18627/18627 [==============================] - 1s 78us/sample - loss: 0.2797 - val_loss: 0.2714\n"
     ]
    },
    {
     "data": {
      "text/plain": [
       "<tensorflow.python.keras.callbacks.History at 0x7fa4001fde50>"
      ]
     },
     "execution_count": 53,
     "metadata": {},
     "output_type": "execute_result"
    }
   ],
   "source": [
    "reg_model = keras.models.Sequential([\n",
    "    keras.layers.Dense(300, input_shape=X_train_std.shape[1:], activation='relu'),\n",
    "    keras.layers.Dense(100, activation='relu'),\n",
    "    keras.layers.Dense(1)\n",
    "])\n",
    "reg_model.compile(optimizer='sgd', loss='mean_squared_error')\n",
    "reg_model.fit(X_train_std, y_train, validation_data=(X_val_std, y_valid), epochs=30)"
   ]
  },
  {
   "cell_type": "markdown",
   "metadata": {},
   "source": [
    "# 再加一层"
   ]
  },
  {
   "cell_type": "code",
   "execution_count": 54,
   "metadata": {},
   "outputs": [
    {
     "name": "stdout",
     "output_type": "stream",
     "text": [
      "Train on 18627 samples, validate on 981 samples\n",
      "Epoch 1/30\n",
      "18627/18627 [==============================] - 2s 104us/sample - loss: 0.6165 - val_loss: 0.4640\n",
      "Epoch 2/30\n",
      "18627/18627 [==============================] - 2s 82us/sample - loss: 0.4060 - val_loss: 0.3751\n",
      "Epoch 3/30\n",
      "18627/18627 [==============================] - 2s 82us/sample - loss: 0.3886 - val_loss: 0.4467\n",
      "Epoch 4/30\n",
      "18627/18627 [==============================] - 2s 82us/sample - loss: 0.3598 - val_loss: 0.3886\n",
      "Epoch 5/30\n",
      "18627/18627 [==============================] - 2s 83us/sample - loss: 0.3474 - val_loss: 0.3243\n",
      "Epoch 6/30\n",
      "18627/18627 [==============================] - 2s 83us/sample - loss: 0.3358 - val_loss: 0.3508\n",
      "Epoch 7/30\n",
      "18627/18627 [==============================] - 2s 82us/sample - loss: 0.3280 - val_loss: 0.3081\n",
      "Epoch 8/30\n",
      "18627/18627 [==============================] - 2s 82us/sample - loss: 0.3278 - val_loss: 0.2983\n",
      "Epoch 9/30\n",
      "18627/18627 [==============================] - 2s 82us/sample - loss: 0.3159 - val_loss: 0.3526\n",
      "Epoch 10/30\n",
      "18627/18627 [==============================] - 2s 82us/sample - loss: 0.3129 - val_loss: 0.2989\n",
      "Epoch 11/30\n",
      "18627/18627 [==============================] - 2s 82us/sample - loss: 0.3103 - val_loss: 0.3255\n",
      "Epoch 12/30\n",
      "18627/18627 [==============================] - 2s 82us/sample - loss: 0.3045 - val_loss: 0.3792\n",
      "Epoch 13/30\n",
      "18627/18627 [==============================] - 2s 83us/sample - loss: 0.2956 - val_loss: 0.3177\n",
      "Epoch 14/30\n",
      "18627/18627 [==============================] - 2s 82us/sample - loss: 0.2944 - val_loss: 0.8589\n",
      "Epoch 15/30\n",
      "18627/18627 [==============================] - 2s 82us/sample - loss: 0.2951 - val_loss: 0.6252\n",
      "Epoch 16/30\n",
      "18627/18627 [==============================] - 2s 82us/sample - loss: 0.2910 - val_loss: 0.3830\n",
      "Epoch 17/30\n",
      "18627/18627 [==============================] - 2s 82us/sample - loss: 0.2891 - val_loss: 0.3776\n",
      "Epoch 18/30\n",
      "18627/18627 [==============================] - 2s 82us/sample - loss: 0.2883 - val_loss: 0.2799\n",
      "Epoch 19/30\n",
      "18627/18627 [==============================] - 2s 82us/sample - loss: 0.2929 - val_loss: 0.3707\n",
      "Epoch 20/30\n",
      "18627/18627 [==============================] - 2s 81us/sample - loss: 0.2859 - val_loss: 0.3601\n",
      "Epoch 21/30\n",
      "18627/18627 [==============================] - 2s 82us/sample - loss: 0.2831 - val_loss: 0.3333\n",
      "Epoch 22/30\n",
      "18627/18627 [==============================] - 2s 82us/sample - loss: 0.2790 - val_loss: 0.2836\n",
      "Epoch 23/30\n",
      "18627/18627 [==============================] - 2s 82us/sample - loss: 0.2774 - val_loss: 0.3941\n",
      "Epoch 24/30\n",
      "18627/18627 [==============================] - 2s 82us/sample - loss: 0.2777 - val_loss: 0.2855\n",
      "Epoch 25/30\n",
      "18627/18627 [==============================] - 2s 82us/sample - loss: 0.2747 - val_loss: 0.2749\n",
      "Epoch 26/30\n",
      "18627/18627 [==============================] - 2s 85us/sample - loss: 0.2727 - val_loss: 0.5313\n",
      "Epoch 27/30\n",
      "18627/18627 [==============================] - 2s 83us/sample - loss: 0.2715 - val_loss: 1.3891\n",
      "Epoch 28/30\n",
      "18627/18627 [==============================] - 2s 82us/sample - loss: 0.2731 - val_loss: 0.3506\n",
      "Epoch 29/30\n",
      "18627/18627 [==============================] - 2s 82us/sample - loss: 0.2691 - val_loss: 0.2847\n",
      "Epoch 30/30\n",
      "18627/18627 [==============================] - 2s 82us/sample - loss: 0.2673 - val_loss: 0.3381\n"
     ]
    },
    {
     "data": {
      "text/plain": [
       "<tensorflow.python.keras.callbacks.History at 0x7fa3b83c6390>"
      ]
     },
     "execution_count": 54,
     "metadata": {},
     "output_type": "execute_result"
    }
   ],
   "source": [
    "reg_model = keras.models.Sequential([\n",
    "    keras.layers.Dense(300, input_shape=X_train_std.shape[1:], activation='relu'),\n",
    "    keras.layers.Dense(100, activation='relu'),\n",
    "    keras.layers.Dense(50, activation='relu'),\n",
    "    keras.layers.Dense(1)\n",
    "])\n",
    "reg_model.compile(optimizer='sgd', loss='mean_squared_error')\n",
    "reg_model.fit(X_train_std, y_train, validation_data=(X_val_std, y_valid), epochs=30)"
   ]
  },
  {
   "cell_type": "code",
   "execution_count": 58,
   "metadata": {},
   "outputs": [
    {
     "data": {
      "image/png": "[encoded data removed]",
      "text/plain": [
       "<Figure size 576x360 with 1 Axes>"
      ]
     },
     "metadata": {
      "needs_background": "light"
     },
     "output_type": "display_data"
    }
   ],
   "source": [
    "plot_history(Out[54])"
   ]
  },
  {
   "cell_type": "code",
   "execution_count": 59,
   "metadata": {},
   "outputs": [
    {
     "data": {
      "image/png": "[encoded data removed]",
      "text/plain": [
       "<Figure size 576x360 with 1 Axes>"
      ]
     },
     "metadata": {
      "needs_background": "light"
     },
     "output_type": "display_data"
    }
   ],
   "source": [
    "plot_history(Out[53])"
   ]
  },
  {
   "cell_type": "code",
   "execution_count": 60,
   "metadata": {},
   "outputs": [
    {
     "data": {
      "image/png": "[encoded data removed]",
      "text/plain": [
       "<Figure size 576x360 with 1 Axes>"
      ]
     },
     "metadata": {
      "needs_background": "light"
     },
     "output_type": "display_data"
    }
   ],
   "source": [
    "plot_history(Out[50])"
   ]
  },
  {
   "cell_type": "markdown",
   "metadata": {},
   "source": [
    "# 使用deep&wide模型"
   ]
  },
  {
   "cell_type": "code",
   "execution_count": 36,
   "metadata": {},
   "outputs": [
    {
     "data": {
      "text/plain": [
       "(8,)"
      ]
     },
     "execution_count": 36,
     "metadata": {},
     "output_type": "execute_result"
    }
   ],
   "source": [
    "X_train_std.shape[1:]"
   ]
  },
  {
   "cell_type": "code",
   "execution_count": 22,
   "metadata": {},
   "outputs": [],
   "source": [
    "input_layer = keras.layers.Input(shape=X_train_std.shape[1:])\n",
    "hidden1 = keras.layers.Dense(300, activation='relu')(input_layer)\n",
    "hidden2 = keras.layers.Dense(100, activation='relu')(hidden1)\n",
    "concat = keras.layers.Concatenate()([input_layer, hidden2])\n",
    "output_layer = keras.layers.Dense(1)(concat)\n",
    "dw_model = keras.Model(inputs=[input_layer], outputs=[output_layer])"
   ]
  },
  {
   "cell_type": "code",
   "execution_count": 23,
   "metadata": {},
   "outputs": [
    {
     "name": "stdout",
     "output_type": "stream",
     "text": [
      "Train on 18627 samples, validate on 981 samples\n",
      "Epoch 1/30\n",
      "18627/18627 [==============================] - 2s 112us/sample - loss: 1.1026 - val_loss: 0.4692\n",
      "Epoch 2/30\n",
      "18627/18627 [==============================] - 2s 82us/sample - loss: 0.5617 - val_loss: 0.7391\n",
      "Epoch 3/30\n",
      "18627/18627 [==============================] - 2s 82us/sample - loss: 0.5013 - val_loss: 0.4006\n",
      "Epoch 4/30\n",
      "18627/18627 [==============================] - 2s 82us/sample - loss: 0.7762 - val_loss: 0.3947\n",
      "Epoch 5/30\n",
      "18627/18627 [==============================] - 2s 85us/sample - loss: 0.4418 - val_loss: 0.3920\n",
      "Epoch 6/30\n",
      "18627/18627 [==============================] - 2s 82us/sample - loss: 0.3960 - val_loss: 0.3693\n",
      "Epoch 7/30\n",
      "18627/18627 [==============================] - 2s 82us/sample - loss: 0.3838 - val_loss: 0.3690\n",
      "Epoch 8/30\n",
      "18627/18627 [==============================] - 2s 82us/sample - loss: 0.3752 - val_loss: 0.3497\n",
      "Epoch 9/30\n",
      "18627/18627 [==============================] - 2s 82us/sample - loss: 0.3692 - val_loss: 0.3489\n",
      "Epoch 10/30\n",
      "18627/18627 [==============================] - 2s 82us/sample - loss: 0.3631 - val_loss: 0.3423\n",
      "Epoch 11/30\n",
      "18627/18627 [==============================] - 2s 82us/sample - loss: 0.3535 - val_loss: 0.3386\n",
      "Epoch 12/30\n",
      "18627/18627 [==============================] - 2s 82us/sample - loss: 0.3486 - val_loss: 0.3485\n",
      "Epoch 13/30\n",
      "18627/18627 [==============================] - 2s 82us/sample - loss: 0.3446 - val_loss: 0.3270\n",
      "Epoch 14/30\n",
      "18627/18627 [==============================] - 2s 82us/sample - loss: 0.3493 - val_loss: 0.3272\n",
      "Epoch 15/30\n",
      "18627/18627 [==============================] - 2s 83us/sample - loss: 0.3356 - val_loss: 0.3261\n",
      "Epoch 16/30\n",
      "18627/18627 [==============================] - 2s 82us/sample - loss: 0.3604 - val_loss: 0.3201\n",
      "Epoch 17/30\n",
      "18627/18627 [==============================] - 2s 82us/sample - loss: 0.3284 - val_loss: 0.3205\n",
      "Epoch 18/30\n",
      "18627/18627 [==============================] - 2s 82us/sample - loss: 0.3270 - val_loss: 0.3190\n",
      "Epoch 19/30\n",
      "18627/18627 [==============================] - 2s 82us/sample - loss: 0.3258 - val_loss: 0.3312\n",
      "Epoch 20/30\n",
      "18627/18627 [==============================] - 2s 82us/sample - loss: 0.3222 - val_loss: 0.3082\n",
      "Epoch 21/30\n",
      "18627/18627 [==============================] - 2s 83us/sample - loss: 0.3174 - val_loss: 0.4098\n",
      "Epoch 22/30\n",
      "18627/18627 [==============================] - 2s 84us/sample - loss: 0.3153 - val_loss: 0.3144\n",
      "Epoch 23/30\n",
      "18627/18627 [==============================] - 2s 82us/sample - loss: 0.3259 - val_loss: 0.3225\n",
      "Epoch 24/30\n",
      "18627/18627 [==============================] - 2s 81us/sample - loss: 0.3089 - val_loss: 0.3087\n",
      "Epoch 25/30\n",
      "18627/18627 [==============================] - 2s 82us/sample - loss: 0.3091 - val_loss: 0.2983\n",
      "Epoch 26/30\n",
      "18627/18627 [==============================] - 2s 82us/sample - loss: 0.3069 - val_loss: 0.2991\n",
      "Epoch 27/30\n",
      "18627/18627 [==============================] - 2s 82us/sample - loss: 0.3257 - val_loss: 0.2929\n",
      "Epoch 28/30\n",
      "18627/18627 [==============================] - 2s 82us/sample - loss: 0.3008 - val_loss: 0.3005\n",
      "Epoch 29/30\n",
      "18627/18627 [==============================] - 2s 87us/sample - loss: 0.3000 - val_loss: 0.3079\n",
      "Epoch 30/30\n",
      "18627/18627 [==============================] - 2s 84us/sample - loss: 0.3289 - val_loss: 0.3271\n"
     ]
    },
    {
     "data": {
      "text/plain": [
       "<tensorflow.python.keras.callbacks.History at 0x7fe6b016ae10>"
      ]
     },
     "execution_count": 23,
     "metadata": {},
     "output_type": "execute_result"
    }
   ],
   "source": [
    "dw_model.compile(optimizer=keras.optimizers.SGD(lr=0.005), loss='mean_squared_error')\n",
    "dw_model.fit(X_train_std, y_train, validation_data=(X_val_std, y_valid), epochs=30)"
   ]
  },
  {
   "cell_type": "code",
   "execution_count": 24,
   "metadata": {},
   "outputs": [
    {
     "data": {
      "image/png": "[encoded data removed]",
      "text/plain": [
       "<Figure size 576x360 with 1 Axes>"
      ]
     },
     "metadata": {
      "needs_background": "light"
     },
     "output_type": "display_data"
    }
   ],
   "source": [
    "plot_history(Out[23])"
   ]
  },
  {
   "cell_type": "code",
   "execution_count": 25,
   "metadata": {},
   "outputs": [
    {
     "name": "stdout",
     "output_type": "stream",
     "text": [
      "Train on 18627 samples, validate on 981 samples\n",
      "Epoch 1/30\n",
      "18627/18627 [==============================] - 2s 82us/sample - loss: 0.3034 - val_loss: 0.3031\n",
      "Epoch 2/30\n",
      "18627/18627 [==============================] - 2s 81us/sample - loss: 0.2988 - val_loss: 0.2905\n",
      "Epoch 3/30\n",
      "18627/18627 [==============================] - 2s 82us/sample - loss: 0.2936 - val_loss: 0.3009\n",
      "Epoch 4/30\n",
      "18627/18627 [==============================] - 2s 81us/sample - loss: 0.2929 - val_loss: 0.2919\n",
      "Epoch 5/30\n",
      "18627/18627 [==============================] - 2s 81us/sample - loss: 0.3140 - val_loss: 0.2799\n",
      "Epoch 6/30\n",
      "18627/18627 [==============================] - 2s 81us/sample - loss: 0.2918 - val_loss: 0.3389\n",
      "Epoch 7/30\n",
      "18627/18627 [==============================] - 2s 81us/sample - loss: 0.2904 - val_loss: 0.3064\n",
      "Epoch 8/30\n",
      "18627/18627 [==============================] - 2s 81us/sample - loss: 0.2914 - val_loss: 0.2756\n",
      "Epoch 9/30\n",
      "18627/18627 [==============================] - 2s 81us/sample - loss: 0.2872 - val_loss: 0.2766\n",
      "Epoch 10/30\n",
      "18627/18627 [==============================] - 2s 81us/sample - loss: 0.2911 - val_loss: 0.2795\n",
      "Epoch 11/30\n",
      "18627/18627 [==============================] - 1s 80us/sample - loss: 0.2844 - val_loss: 0.2833\n",
      "Epoch 12/30\n",
      "18627/18627 [==============================] - 1s 80us/sample - loss: 0.2856 - val_loss: 0.2813\n",
      "Epoch 13/30\n",
      "18627/18627 [==============================] - 2s 81us/sample - loss: 0.2830 - val_loss: 0.2866\n",
      "Epoch 14/30\n",
      "18627/18627 [==============================] - 2s 81us/sample - loss: 0.2832 - val_loss: 0.2922\n",
      "Epoch 15/30\n",
      "18627/18627 [==============================] - 2s 81us/sample - loss: 0.2816 - val_loss: 0.2822\n",
      "Epoch 16/30\n",
      "18627/18627 [==============================] - 1s 80us/sample - loss: 0.2795 - val_loss: 0.2747\n",
      "Epoch 17/30\n",
      "18627/18627 [==============================] - 2s 81us/sample - loss: 0.2821 - val_loss: 0.2712\n",
      "Epoch 18/30\n",
      "18627/18627 [==============================] - 1s 80us/sample - loss: 0.2789 - val_loss: 0.2713\n",
      "Epoch 19/30\n",
      "18627/18627 [==============================] - 2s 81us/sample - loss: 0.2787 - val_loss: 0.4070\n",
      "Epoch 20/30\n",
      "18627/18627 [==============================] - 2s 81us/sample - loss: 0.2787 - val_loss: 0.3496\n",
      "Epoch 21/30\n",
      "18627/18627 [==============================] - 2s 81us/sample - loss: 0.2805 - val_loss: 0.4063\n",
      "Epoch 22/30\n",
      "18627/18627 [==============================] - 2s 81us/sample - loss: 0.2761 - val_loss: 0.2675\n",
      "Epoch 23/30\n",
      "18627/18627 [==============================] - 2s 81us/sample - loss: 0.2798 - val_loss: 0.3071\n",
      "Epoch 24/30\n",
      "18627/18627 [==============================] - 2s 81us/sample - loss: 0.2766 - val_loss: 0.2722\n",
      "Epoch 25/30\n",
      "18627/18627 [==============================] - 2s 81us/sample - loss: 0.2759 - val_loss: 0.3049\n",
      "Epoch 26/30\n",
      "18627/18627 [==============================] - 1s 80us/sample - loss: 0.2754 - val_loss: 0.2728\n",
      "Epoch 27/30\n",
      "18627/18627 [==============================] - 2s 81us/sample - loss: 0.2763 - val_loss: 0.3051\n",
      "Epoch 28/30\n",
      "18627/18627 [==============================] - 2s 82us/sample - loss: 0.2733 - val_loss: 0.2620\n",
      "Epoch 29/30\n",
      "18627/18627 [==============================] - 2s 82us/sample - loss: 0.2724 - val_loss: 0.2895\n",
      "Epoch 30/30\n",
      "18627/18627 [==============================] - 2s 81us/sample - loss: 0.2758 - val_loss: 0.2683\n"
     ]
    },
    {
     "data": {
      "text/plain": [
       "<tensorflow.python.keras.callbacks.History at 0x7fe62445cdd0>"
      ]
     },
     "execution_count": 25,
     "metadata": {},
     "output_type": "execute_result"
    }
   ],
   "source": [
    "dw_model.fit(X_train_std, y_train, validation_data=(X_val_std, y_valid), epochs=30)"
   ]
  },
  {
   "cell_type": "code",
   "execution_count": 26,
   "metadata": {},
   "outputs": [
    {
     "data": {
      "image/png": "[encoded data removed]",
      "text/plain": [
       "<Figure size 576x360 with 1 Axes>"
      ]
     },
     "metadata": {
      "needs_background": "light"
     },
     "output_type": "display_data"
    }
   ],
   "source": [
    "plot_history(Out[25])"
   ]
  },
  {
   "cell_type": "code",
   "execution_count": 27,
   "metadata": {},
   "outputs": [
    {
     "name": "stdout",
     "output_type": "stream",
     "text": [
      "Train on 18627 samples, validate on 981 samples\n",
      "Epoch 1/30\n",
      "18627/18627 [==============================] - 2s 82us/sample - loss: 0.2716 - val_loss: 0.4794\n",
      "Epoch 2/30\n",
      "18627/18627 [==============================] - 2s 81us/sample - loss: 0.2728 - val_loss: 0.2662\n",
      "Epoch 3/30\n",
      "18627/18627 [==============================] - 2s 81us/sample - loss: 0.2737 - val_loss: 0.2688\n",
      "Epoch 4/30\n",
      "18627/18627 [==============================] - 1s 81us/sample - loss: 0.2683 - val_loss: 0.2744\n",
      "Epoch 5/30\n",
      "18627/18627 [==============================] - 2s 81us/sample - loss: 0.2692 - val_loss: 0.3129\n",
      "Epoch 6/30\n",
      "18627/18627 [==============================] - 1s 80us/sample - loss: 0.2715 - val_loss: 0.2594\n",
      "Epoch 7/30\n",
      "18627/18627 [==============================] - 2s 81us/sample - loss: 0.2673 - val_loss: 0.2924\n",
      "Epoch 8/30\n",
      "18627/18627 [==============================] - 1s 80us/sample - loss: 0.2706 - val_loss: 0.2625\n",
      "Epoch 9/30\n",
      "18627/18627 [==============================] - 2s 81us/sample - loss: 0.2663 - val_loss: 0.2642\n",
      "Epoch 10/30\n",
      "18627/18627 [==============================] - 2s 81us/sample - loss: 0.2667 - val_loss: 0.2932\n",
      "Epoch 11/30\n",
      "18627/18627 [==============================] - 2s 81us/sample - loss: 0.2671 - val_loss: 0.3118\n",
      "Epoch 12/30\n",
      "18627/18627 [==============================] - 1s 80us/sample - loss: 0.2646 - val_loss: 0.2783\n",
      "Epoch 13/30\n",
      "18627/18627 [==============================] - 2s 81us/sample - loss: 0.2687 - val_loss: 0.2595\n",
      "Epoch 14/30\n",
      "18627/18627 [==============================] - 1s 80us/sample - loss: 0.2635 - val_loss: 0.2741\n",
      "Epoch 15/30\n",
      "18627/18627 [==============================] - 2s 81us/sample - loss: 0.2638 - val_loss: 0.2767\n",
      "Epoch 16/30\n",
      "18627/18627 [==============================] - 2s 81us/sample - loss: 0.2630 - val_loss: 0.3377\n",
      "Epoch 17/30\n",
      "18627/18627 [==============================] - 2s 81us/sample - loss: 0.2616 - val_loss: 0.2625\n",
      "Epoch 18/30\n",
      "18627/18627 [==============================] - 1s 81us/sample - loss: 0.2628 - val_loss: 0.2565\n",
      "Epoch 19/30\n",
      "18627/18627 [==============================] - 2s 81us/sample - loss: 0.2617 - val_loss: 0.2592\n",
      "Epoch 20/30\n",
      "18627/18627 [==============================] - 2s 81us/sample - loss: 0.2623 - val_loss: 0.2555\n",
      "Epoch 21/30\n",
      "18627/18627 [==============================] - 2s 81us/sample - loss: 0.2612 - val_loss: 0.2890\n",
      "Epoch 22/30\n",
      "18627/18627 [==============================] - 1s 80us/sample - loss: 0.2609 - val_loss: 0.2617\n",
      "Epoch 23/30\n",
      "18627/18627 [==============================] - 2s 81us/sample - loss: 0.2607 - val_loss: 0.2534\n",
      "Epoch 24/30\n",
      "18627/18627 [==============================] - 2s 81us/sample - loss: 0.2639 - val_loss: 0.4819\n",
      "Epoch 25/30\n",
      "18627/18627 [==============================] - 2s 81us/sample - loss: 0.2624 - val_loss: 0.2610\n",
      "Epoch 26/30\n",
      "18627/18627 [==============================] - 2s 81us/sample - loss: 0.2619 - val_loss: 0.2783\n",
      "Epoch 27/30\n",
      "18627/18627 [==============================] - 2s 81us/sample - loss: 0.2625 - val_loss: 0.2952\n",
      "Epoch 28/30\n",
      "18627/18627 [==============================] - 2s 81us/sample - loss: 0.2589 - val_loss: 0.2572\n",
      "Epoch 29/30\n",
      "18627/18627 [==============================] - 2s 83us/sample - loss: 0.2569 - val_loss: 0.2681\n",
      "Epoch 30/30\n",
      "18627/18627 [==============================] - 2s 82us/sample - loss: 0.2709 - val_loss: 0.2579\n"
     ]
    },
    {
     "data": {
      "text/plain": [
       "<tensorflow.python.keras.callbacks.History at 0x7fe624217b90>"
      ]
     },
     "execution_count": 27,
     "metadata": {},
     "output_type": "execute_result"
    }
   ],
   "source": [
    "dw_model.fit(X_train_std, y_train, validation_data=(X_val_std, y_valid), epochs=30)"
   ]
  },
  {
   "cell_type": "code",
   "execution_count": 28,
   "metadata": {},
   "outputs": [
    {
     "data": {
      "image/png": "[encoded data removed]",
      "text/plain": [
       "<Figure size 576x360 with 1 Axes>"
      ]
     },
     "metadata": {
      "needs_background": "light"
     },
     "output_type": "display_data"
    }
   ],
   "source": [
    "plot_history(Out[27])"
   ]
  },
  {
   "cell_type": "code",
   "execution_count": null,
   "metadata": {},
   "outputs": [],
   "source": []
  }
 ],
 "metadata": {
  "kernelspec": {
   "display_name": "Python 3",
   "language": "python",
   "name": "python3"
  },
  "language_info": {
   "codemirror_mode": {
    "name": "ipython",
    "version": 3
   },
   "file_extension": ".py",
   "mimetype": "text/x-python",
   "name": "python",
   "nbconvert_exporter": "python",
   "pygments_lexer": "ipython3",
   "version": "3.7.4"
  }
 },
 "nbformat": 4,
 "nbformat_minor": 2
}
