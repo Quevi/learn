{
 "cells": [
  {
   "cell_type": "code",
   "execution_count": 1,
   "metadata": {},
   "outputs": [],
   "source": [
    "import tensorflow as tf\n",
    "import tensorflow.keras as keras"
   ]
  },
  {
   "cell_type": "code",
   "execution_count": 2,
   "metadata": {},
   "outputs": [],
   "source": [
    "class ResidualUnit(keras.layers.Layer):\n",
    "    def __init__(self, filters, activation='relu', strides=1, **kwargs):\n",
    "        super().__init__(**kwargs)\n",
    "        self.activation = keras.activations.get(activation)\n",
    "        self.main_layers = [\n",
    "            keras.layers.Conv2D(filters, 3, strides=strides, padding='SAME', use_bias=False),\n",
    "            keras.layers.BatchNormalization(),\n",
    "            self.activation,\n",
    "            keras.layers.Conv2D(filters, 3, strides=1, padding='SAME', use_bias=False),\n",
    "            keras.layers.BatchNormalization(),\n",
    "        ]\n",
    "        self.skip_layers = [keras.layers.Conv2D(filters, 1, strides=1, padding='SAME', use_bias=False)]\n",
    "        if strides > 1:\n",
    "            self.skip_layers = [\n",
    "                keras.layers.Conv2D(filters, 1, strides=strides, padding='SAME', use_bias=False),\n",
    "                keras.layers.BatchNormalization()\n",
    "            ]\n",
    "    \n",
    "    def call(self, inputs):\n",
    "        main_output = inputs\n",
    "        for layer in self.main_layers:\n",
    "            main_output = layer(main_output)\n",
    "        skip_output = inputs\n",
    "        for layer in self.skip_layers:\n",
    "            skip_output = layer(skip_output)\n",
    "        return self.activation(main_output + skip_output)"
   ]
  },
  {
   "cell_type": "code",
   "execution_count": 4,
   "metadata": {},
   "outputs": [],
   "source": [
    "model = keras.models.Sequential([\n",
    "    keras.layers.Conv2D(64, 7, strides=2, input_shape=[224, 224, 3], padding='SAME', use_bias=False),\n",
    "    keras.layers.BatchNormalization(),\n",
    "    keras.layers.Activation('relu'),\n",
    "])\n",
    "prev_filters = 64    \n",
    "for filters in 4*[64] + 4*[128] + 4*[256] + 4*[512]:\n",
    "    strides = 1 if filters == prev_filters else 2\n",
    "    model.add(ResidualUnit(filters, strides=strides))\n",
    "    prev_filters = filters\n",
    "model.add(keras.layers.GlobalAvgPool2D())\n",
    "model.add(keras.layers.Dense(10, activation='softmax'))"
   ]
  },
  {
   "cell_type": "code",
   "execution_count": 5,
   "metadata": {},
   "outputs": [
    {
     "name": "stdout",
     "output_type": "stream",
     "text": [
      "Model: \"sequential\"\n",
      "_________________________________________________________________\n",
      "Layer (type)                 Output Shape              Param #   \n",
      "=================================================================\n",
      "conv2d (Conv2D)              (None, 112, 112, 64)      9408      \n",
      "_________________________________________________________________\n",
      "batch_normalization (BatchNo (None, 112, 112, 64)      256       \n",
      "_________________________________________________________________\n",
      "activation (Activation)      (None, 112, 112, 64)      0         \n",
      "_________________________________________________________________\n",
      "residual_unit (ResidualUnit) (None, 112, 112, 64)      78336     \n",
      "_________________________________________________________________\n",
      "residual_unit_1 (ResidualUni (None, 112, 112, 64)      78336     \n",
      "_________________________________________________________________\n",
      "residual_unit_2 (ResidualUni (None, 112, 112, 64)      78336     \n",
      "_________________________________________________________________\n",
      "residual_unit_3 (ResidualUni (None, 112, 112, 64)      78336     \n",
      "_________________________________________________________________\n",
      "residual_unit_4 (ResidualUni (None, 56, 56, 128)       230912    \n",
      "_________________________________________________________________\n",
      "residual_unit_5 (ResidualUni (None, 56, 56, 128)       312320    \n",
      "_________________________________________________________________\n",
      "residual_unit_6 (ResidualUni (None, 56, 56, 128)       312320    \n",
      "_________________________________________________________________\n",
      "residual_unit_7 (ResidualUni (None, 56, 56, 128)       312320    \n",
      "_________________________________________________________________\n",
      "residual_unit_8 (ResidualUni (None, 28, 28, 256)       920576    \n",
      "_________________________________________________________________\n",
      "residual_unit_9 (ResidualUni (None, 28, 28, 256)       1247232   \n",
      "_________________________________________________________________\n",
      "residual_unit_10 (ResidualUn (None, 28, 28, 256)       1247232   \n",
      "_________________________________________________________________\n",
      "residual_unit_11 (ResidualUn (None, 28, 28, 256)       1247232   \n",
      "_________________________________________________________________\n",
      "residual_unit_12 (ResidualUn (None, 14, 14, 512)       3676160   \n",
      "_________________________________________________________________\n",
      "residual_unit_13 (ResidualUn (None, 14, 14, 512)       4984832   \n",
      "_________________________________________________________________\n",
      "residual_unit_14 (ResidualUn (None, 14, 14, 512)       4984832   \n",
      "_________________________________________________________________\n",
      "residual_unit_15 (ResidualUn (None, 14, 14, 512)       4984832   \n",
      "_________________________________________________________________\n",
      "global_average_pooling2d (Gl (None, 512)               0         \n",
      "_________________________________________________________________\n",
      "dense (Dense)                (None, 10)                5130      \n",
      "=================================================================\n",
      "Total params: 24,788,938\n",
      "Trainable params: 24,771,658\n",
      "Non-trainable params: 17,280\n",
      "_________________________________________________________________\n"
     ]
    }
   ],
   "source": [
    "model.summary()"
   ]
  },
  {
   "cell_type": "code",
   "execution_count": null,
   "metadata": {},
   "outputs": [],
   "source": []
  }
 ],
 "metadata": {
  "kernelspec": {
   "display_name": "Python 3",
   "language": "python",
   "name": "python3"
  },
  "language_info": {
   "codemirror_mode": {
    "name": "ipython",
    "version": 3
   },
   "file_extension": ".py",
   "mimetype": "text/x-python",
   "name": "python",
   "nbconvert_exporter": "python",
   "pygments_lexer": "ipython3",
   "version": "3.7.4"
  }
 },
 "nbformat": 4,
 "nbformat_minor": 2
}
